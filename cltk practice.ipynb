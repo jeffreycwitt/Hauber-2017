{
 "cells": [
  {
   "cell_type": "code",
   "execution_count": 9,
   "metadata": {},
   "outputs": [
    {
     "data": {
      "text/plain": [
       "['latin_text_perseus',\n",
       " 'latin_treebank_perseus',\n",
       " 'latin_text_latin_library',\n",
       " 'phi5',\n",
       " 'phi7',\n",
       " 'latin_proper_names_cltk',\n",
       " 'latin_models_cltk',\n",
       " 'latin_pos_lemmata_cltk',\n",
       " 'latin_treebank_index_thomisticus',\n",
       " 'latin_lexica_perseus',\n",
       " 'latin_training_set_sentence_cltk',\n",
       " 'latin_word2vec_cltk',\n",
       " 'latin_text_antique_digiliblt',\n",
       " 'latin_text_corpus_grammaticorum_latinorum',\n",
       " 'latin_text_poeti_ditalia']"
      ]
     },
     "execution_count": 9,
     "metadata": {},
     "output_type": "execute_result"
    }
   ],
   "source": [
    "from cltk.stem.lemma import LemmaReplacer\n",
    "from cltk.stem.latin.j_v import JVReplacer\n",
    "from cltk.corpus.utils.importer import CorpusImporter\n",
    "corpus_importer = CorpusImporter('latin')\n",
    "corpus_importer.list_corpora"
   ]
  },
  {
   "cell_type": "code",
   "execution_count": 10,
   "metadata": {
    "collapsed": true
   },
   "outputs": [],
   "source": [
    "corpus_importer.import_corpus('latin_text_latin_library')\n",
    "corpus_importer.import_corpus('latin_models_cltk')"
   ]
  },
  {
   "cell_type": "code",
   "execution_count": 11,
   "metadata": {},
   "outputs": [
    {
     "data": {
      "text/plain": [
       "['aeneadum',\n",
       " 'genetrix',\n",
       " ',',\n",
       " 'homo',\n",
       " 'divus',\n",
       " 'voluptas',\n",
       " ',',\n",
       " 'almus',\n",
       " 'venus2',\n",
       " ',',\n",
       " 'caelum1',\n",
       " 'subter',\n",
       " 'labor1',\n",
       " 'signo',\n",
       " 'qui1',\n",
       " 'mare',\n",
       " 'naviger',\n",
       " ',',\n",
       " 'qui1',\n",
       " 'terra',\n",
       " 'frugiferens',\n",
       " 'concelebro',\n",
       " ',',\n",
       " 'per',\n",
       " 'tu',\n",
       " 'quoniam',\n",
       " 'genus1',\n",
       " 'omne',\n",
       " 'animantum',\n",
       " 'concipio',\n",
       " 'viso',\n",
       " 'exorior',\n",
       " 'lumen',\n",
       " 'solus1.']"
      ]
     },
     "execution_count": 11,
     "metadata": {},
     "output_type": "execute_result"
    }
   ],
   "source": [
    "sentence = 'Aeneadum genetrix, hominum divomque voluptas, alma Venus, caeli subter labentia signa quae mare navigerum, quae terras frugiferentis concelebras, per te quoniam genus omne animantum concipitur visitque exortum lumina solis.'\n",
    "\n",
    "sentence = sentence.lower()\n",
    "\n",
    "lemmatizer = LemmaReplacer('latin')\n",
    "\n",
    "lemmatizer.lemmatize(sentence)"
   ]
  },
  {
   "cell_type": "code",
   "execution_count": 12,
   "metadata": {},
   "outputs": [
    {
     "data": {
      "text/plain": [
       "['usque',\n",
       " 'tandem',\n",
       " 'abutere',\n",
       " ',',\n",
       " 'catilina',\n",
       " ',',\n",
       " 'patientia',\n",
       " 'nostra',\n",
       " '?']"
      ]
     },
     "execution_count": 12,
     "metadata": {},
     "output_type": "execute_result"
    }
   ],
   "source": [
    "from nltk.tokenize.punkt import PunktLanguageVars\n",
    "\n",
    "from cltk.stop.latin.stops import STOPS_LIST\n",
    "\n",
    "sentence = 'Quo usque tandem abutere, Catilina, patientia nostra?'\n",
    "\n",
    "p = PunktLanguageVars()\n",
    "\n",
    "tokens = p.word_tokenize(sentence.lower())\n",
    "\n",
    "[w for w in tokens if not w in STOPS_LIST]"
   ]
  },
  {
   "cell_type": "code",
   "execution_count": null,
   "metadata": {
    "collapsed": true
   },
   "outputs": [],
   "source": []
  },
  {
   "cell_type": "code",
   "execution_count": null,
   "metadata": {
    "collapsed": true
   },
   "outputs": [],
   "source": []
  },
  {
   "cell_type": "code",
   "execution_count": null,
   "metadata": {
    "collapsed": true
   },
   "outputs": [],
   "source": []
  },
  {
   "cell_type": "code",
   "execution_count": null,
   "metadata": {
    "collapsed": true
   },
   "outputs": [],
   "source": []
  }
 ],
 "metadata": {
  "kernelspec": {
   "display_name": "Python 3",
   "language": "python",
   "name": "python3"
  },
  "language_info": {
   "codemirror_mode": {
    "name": "ipython",
    "version": 3
   },
   "file_extension": ".py",
   "mimetype": "text/x-python",
   "name": "python",
   "nbconvert_exporter": "python",
   "pygments_lexer": "ipython3",
   "version": "3.5.2"
  }
 },
 "nbformat": 4,
 "nbformat_minor": 2
}
