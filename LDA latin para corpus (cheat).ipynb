{
 "cells": [
  {
   "cell_type": "code",
   "execution_count": 323,
   "metadata": {
    "collapsed": true
   },
   "outputs": [],
   "source": [
    "from cltk.stem.lemma import LemmaReplacer\n",
    "from nltk.tokenize import RegexpTokenizer\n",
    "from cltk.stop.latin.stops import STOPS_LIST\n",
    "from cltk.vector.word2vec import get_sims\n",
    "from gensim import corpora, models\n",
    "import re, pprint\n",
    "from urllib import request\n",
    "import gensim\n",
    "from cltk.corpus.utils.importer import CorpusImporter\n",
    "corpus_importer = CorpusImporter('latin')\n",
    "corpus_importer.import_corpus('latin_models_cltk')\n",
    "import os"
   ]
  },
  {
   "cell_type": "code",
   "execution_count": 324,
   "metadata": {
    "collapsed": true
   },
   "outputs": [],
   "source": [
    "file1 = '/home/ykim/cltk_data/latin/text/latin_text_latin_library/abelard/historia.txt'\n",
    "book1 = open(file1, 'r').read()"
   ]
  },
  {
   "cell_type": "code",
   "execution_count": 325,
   "metadata": {
    "collapsed": true
   },
   "outputs": [],
   "source": [
    "tokenizer = RegexpTokenizer(r'\\w+')\n",
    "lemmatizer = LemmaReplacer('latin')\n",
    "doc_set = [book1]"
   ]
  },
  {
   "cell_type": "code",
   "execution_count": 360,
   "metadata": {
    "collapsed": true
   },
   "outputs": [],
   "source": [
    "#create corpus composed of paragraphs as docs\n",
    "for i in doc_set:\n",
    "    raw = i.lower()\n",
    "    #texts = tokenizer.tokenize(raw)\n",
    "    docs = re.split('[\\n\\t]+', raw)\n",
    "exclude = [' '];\n",
    "corpus = [doc for doc in docs if doc not in exclude]\n"
   ]
  },
  {
   "cell_type": "code",
   "execution_count": 378,
   "metadata": {},
   "outputs": [
    {
     "data": {
      "text/plain": [
       "92"
      ]
     },
     "execution_count": 378,
     "metadata": {},
     "output_type": "execute_result"
    }
   ],
   "source": [
    "len(corpus)"
   ]
  },
  {
   "cell_type": "code",
   "execution_count": 409,
   "metadata": {
    "scrolled": true
   },
   "outputs": [],
   "source": [
    "STOPS_LIST = ['ab', 'ac', 'ad', 'adhic', 'aliqui', 'aliquis', 'an', 'ante', 'apud', 'at', 'atque', 'aut', 'autem', 'cum', 'cur', 'de', 'deinde', 'dum', 'ego', 'enim', 'ergo', 'es', 'est', 'et', 'etiam', 'etsi', 'ex', 'fio', 'haud', 'hic', 'iam', 'idem', 'igitur', 'ille', 'in', 'infra', 'inter', 'interim', 'ipse', 'is', 'ita', 'magis', 'modo', 'mox', 'nam', 'ne', 'nec', 'necque', 'neque', 'nisi', 'non', 'nos', 'o', 'ob', 'per', 'possum', 'post', 'pro', 'quae', 'quam', 'quare', 'qui', 'quia', 'quicumque', 'quidem', 'quilibet', 'quis', 'quisnam', 'quisquam', 'quisque', 'quisquis', 'quo', 'quoniam', 'sed', 'si', 'sic', 'sive', 'sub', 'sui', 'sum', 'super', 'suus', 'tam', 'tamen', 'trans', 'tu', 'tum', 'ubi', 'uel', 'uero', 'unus', 'ut', 'sum1', 'qui1', 'edo1', 'quis1', 'meus', 'tantus', 'sum1', 'suum', 'quantus', 'quidam', 'eo1', \"dico1\", 'dico2', 'f', 'quasi', 'neo1', 'inquam', 'vel', 'que', \"suo\"]"
   ]
  },
  {
   "cell_type": "code",
   "execution_count": 410,
   "metadata": {
    "collapsed": true
   },
   "outputs": [],
   "source": [
    "new_corpus = []\n",
    "for i in corpus:\n",
    "    tokens = tokenizer.tokenize(i)\n",
    "    #print(tokens)\n",
    "    \n",
    "    stemmed_tokens = lemmatizer.lemmatize(tokens)\n",
    "    stopped_tokens = [w for w in stemmed_tokens if not w in STOPS_LIST]\n",
    "        \n",
    "    #stemmed_tokens = lemmatizer.lemmatize(stopped_tokens)\n",
    "    \n",
    "    new_corpus.append(stopped_tokens)\n",
    "    #print(stemmed_tokens)"
   ]
  },
  {
   "cell_type": "code",
   "execution_count": 411,
   "metadata": {},
   "outputs": [],
   "source": [
    "dictionary.filter_n_most_frequent(500)"
   ]
  },
  {
   "cell_type": "code",
   "execution_count": 412,
   "metadata": {
    "collapsed": true
   },
   "outputs": [],
   "source": [
    "dictionary = corpora.Dictionary(new_corpus)"
   ]
  },
  {
   "cell_type": "code",
   "execution_count": 413,
   "metadata": {
    "collapsed": true,
    "scrolled": false
   },
   "outputs": [],
   "source": [
    "#print(dictionary.token2id)"
   ]
  },
  {
   "cell_type": "code",
   "execution_count": 414,
   "metadata": {
    "collapsed": true
   },
   "outputs": [],
   "source": [
    "bags = [dictionary.doc2bow(doc) for doc in new_corpus]"
   ]
  },
  {
   "cell_type": "code",
   "execution_count": 415,
   "metadata": {},
   "outputs": [],
   "source": [
    "ldamodel = gensim.models.ldamodel.LdaModel([bags[4]], num_topics=2, id2word = dictionary, passes=40)"
   ]
  },
  {
   "cell_type": "code",
   "execution_count": 416,
   "metadata": {},
   "outputs": [
    {
     "name": "stdout",
     "output_type": "stream",
     "text": [
      "[(0, '0.003*\"littera\" + 0.002*\"habeo\" + 0.002*\"primogenitus\" + 0.002*\"amor\"'), (1, '0.000*\"littera\" + 0.000*\"habeo\" + 0.000*\"studium\" + 0.000*\"pretuli\"')]\n"
     ]
    }
   ],
   "source": [
    "print(ldamodel.print_topics(num_topics=2, num_words=4))"
   ]
  },
  {
   "cell_type": "code",
   "execution_count": 417,
   "metadata": {
    "collapsed": true
   },
   "outputs": [],
   "source": [
    "ldamodel = gensim.models.ldamodel.LdaModel([bags[6]], num_topics=2, id2word = dictionary, passes=40)"
   ]
  },
  {
   "cell_type": "code",
   "execution_count": 418,
   "metadata": {},
   "outputs": [
    {
     "name": "stdout",
     "output_type": "stream",
     "text": [
      "[(0, '0.000*\"fama\" + 0.000*\"scilicet\" + 0.000*\"noster\" + 0.000*\"magnus\"'), (1, '0.002*\"magnus\" + 0.002*\"noster\" + 0.002*\"scilicet\" + 0.002*\"fama\"')]\n"
     ]
    }
   ],
   "source": [
    "print(ldamodel.print_topics(num_topics=2, num_words=4))"
   ]
  },
  {
   "cell_type": "code",
   "execution_count": 420,
   "metadata": {},
   "outputs": [],
   "source": [
    "topics = []\n",
    "for i in bags:\n",
    "    ldamodel = gensim.models.ldamodel.LdaModel([i], num_topics=2, id2word = dictionary, passes=20)\n",
    "    topics.append(ldamodel.print_topics(num_topics=2, num_words=4)) \n",
    "    #print(ldamodel.print_topics(num_topics=2, num_words=4))\n",
    "    "
   ]
  },
  {
   "cell_type": "code",
   "execution_count": 421,
   "metadata": {},
   "outputs": [
    {
     "name": "stdout",
     "output_type": "stream",
     "text": [
      "[[(0, '0.000*\"petrus\" + 0.000*\"consolatorius\" + 0.000*\"amicus1\" + 0.000*\"abaelardus\"'), (1, '0.001*\"abaelardus\" + 0.001*\"amicus1\" + 0.001*\"consolatorius\" + 0.001*\"petrus\"')], [(0, '0.000*\"amicus1\" + 0.000*\"consolatorius\" + 0.000*\"abaelardi\" + 0.000*\"deprenderat\"'), (1, '0.001*\"abaelardi\" + 0.001*\"consolatorius\" + 0.001*\"amicus1\" + 0.000*\"deprenderat\"')], [(0, '0.000*\"habeo\" + 0.000*\"recognosco\" + 0.000*\"consolatio\" + 0.000*\"exemplum\"'), (1, '0.001*\"sermo\" + 0.001*\"saepes\" + 0.001*\"modicus\" + 0.001*\"experimentum\"')], [(0, '0.000*\"nativitas\" + 0.000*\"loco\" + 0.000*\"omnipotens\" + 0.000*\"deprenderat\"'), (1, '0.001*\"loco\" + 0.001*\"nativitas\" + 0.000*\"omnipotens\" + 0.000*\"deprenderat\"')], [(0, '0.000*\"littera\" + 0.000*\"habeo\" + 0.000*\"orior\" + 0.000*\"proficio\"'), (1, '0.003*\"littera\" + 0.002*\"habeo\" + 0.002*\"antequam\" + 0.002*\"facilis\"')], [(0, '0.000*\"persecutio\" + 0.000*\"guillhelmi\" + 0.000*\"magister\" + 0.000*\"admiror\"'), (1, '0.001*\"magister\" + 0.001*\"guillhelmi\" + 0.001*\"persecutio\" + 0.000*\"fatuus\"')], [(0, '0.000*\"fama\" + 0.000*\"magnus\" + 0.000*\"scilicet\" + 0.000*\"noster\"'), (1, '0.002*\"noster\" + 0.002*\"scilicet\" + 0.002*\"magnus\" + 0.002*\"fama\"')], [(0, '0.002*\"provideo\" + 0.002*\"noster\" + 0.002*\"locus\" + 0.002*\"scolarum\"'), (1, '0.000*\"scolarum\" + 0.000*\"locus\" + 0.000*\"noster\" + 0.000*\"provideo\"')], [(0, '0.002*\"noster\" + 0.002*\"dialetica\" + 0.001*\"paulatim\" + 0.001*\"facio\"'), (1, '0.000*\"noster\" + 0.000*\"dialetica\" + 0.000*\"artus1\" + 0.000*\"infirmitas\"')], [(0, '0.004*\"sententia\" + 0.003*\"universalibus\" + 0.002*\"immo\" + 0.002*\"habeo\"'), (1, '0.000*\"sententia\" + 0.000*\"universalibus\" + 0.000*\"corrigo\" + 0.000*\"res\"')], [(0, '0.005*\"noster\" + 0.002*\"magistro\" + 0.002*\"magister\" + 0.002*\"magisterius\"'), (1, '0.000*\"noster\" + 0.000*\"scolas\" + 0.000*\"antea\" + 0.000*\"magisterius\"')], [(0, '0.000*\"sicut\" + 0.000*\"manifestius\" + 0.000*\"juxta\" + 0.000*\"invidia\"'), (1, '0.001*\"tunc\" + 0.001*\"antea\" + 0.001*\"venio\" + 0.001*\"constituo\"')], [(0, '0.000*\"noster\" + 0.000*\"multus\" + 0.000*\"redeo\" + 0.000*\"magister\"'), (1, '0.006*\"noster\" + 0.003*\"redeo\" + 0.003*\"multus\" + 0.002*\"habeo\"')], [(0, '0.000*\"magister\" + 0.000*\"magnus\" + 0.000*\"revorto\" + 0.000*\"franciam\"'), (1, '0.002*\"magnus\" + 0.002*\"magister\" + 0.001*\"tunc\" + 0.001*\"addisco\"')], [(0, '0.000*\"quando\" + 0.000*\"venio\" + 0.000*\"magister\" + 0.000*\"laudunum\"'), (1, '0.001*\"anselmum\" + 0.001*\"laudunum\" + 0.001*\"magister\" + 0.001*\"venio\"')], [(0, '0.002*\"accedo\" + 0.002*\"nomen\" + 0.002*\"incertus\" + 0.002*\"utor\"'), (1, '0.000*\"quercus\" + 0.000*\"accedo\" + 0.000*\"mirabilis\" + 0.000*\"comparo1\"')], [(0, '0.007*\"lectio\" + 0.002*\"tunc\" + 0.002*\"respondeo\" + 0.002*\"expositio\"'), (1, '0.000*\"lectio\" + 0.000*\"respondeo\" + 0.000*\"tunc\" + 0.000*\"adsum\"')], [(0, '0.000*\"persecutio\" + 0.000*\"quoque\" + 0.000*\"omnipotens\" + 0.000*\"puerulus\"'), (1, '0.001*\"quoque\" + 0.001*\"persecutio\" + 0.000*\"omnipotens\" + 0.000*\"puerulus\"')], [(0, '0.000*\"magnus\" + 0.000*\"adverro\" + 0.000*\"tunc\" + 0.000*\"opus1\"'), (1, '0.002*\"magnus\" + 0.002*\"senex\" + 0.002*\"commoveo\" + 0.002*\"ito\"')], [(0, '0.001*\"quando\" + 0.001*\"novus\" + 0.001*\"floreo\" + 0.001*\"parisius\"'), (1, '0.000*\"parisius\" + 0.000*\"floreo\" + 0.000*\"novus\" + 0.000*\"quando\"')], [(0, '0.002*\"lectio\" + 0.002*\"unde\" + 0.001*\"statim\" + 0.001*\"lego2\"'), (1, '0.000*\"unde\" + 0.000*\"lectio\" + 0.000*\"vehemens\" + 0.000*\"scolas\"')], [(0, '0.002*\"philosophus\" + 0.002*\"magnus\" + 0.002*\"amplus\" + 0.002*\"divinus\"'), (1, '0.000*\"magnus\" + 0.000*\"philosophus\" + 0.000*\"verus\" + 0.000*\"inflo\"')], [(0, '0.000*\"vendicaret\" + 0.000*\"pietas1\" + 0.000*\"immunditiam\" + 0.000*\"revocabar\"'), (1, '0.001*\"blandio\" + 0.001*\"nosco\" + 0.001*\"fortuno\" + 0.001*\"humilio\"')], [(0, '0.001*\"traho\" + 0.001*\"indo\" + 0.001*\"heloyse\" + 0.001*\"amor\"'), (1, '0.000*\"quomodo\" + 0.000*\"corpus\" + 0.000*\"labor1\" + 0.000*\"vulnus\"')], [(0, '0.002*\"amplus\" + 0.002*\"littera\" + 0.002*\"nomen\" + 0.002*\"quippe\"'), (1, '0.000*\"littera\" + 0.000*\"amplus\" + 0.000*\"credo\" + 0.000*\"amor\"')], [(0, '0.000*\"videlicet\" + 0.000*\"occasio\" + 0.000*\"vehemens\" + 0.000*\"facilis\"'), (1, '0.004*\"videlicet\" + 0.003*\"noster\" + 0.003*\"vehemens\" + 0.002*\"neptis\"')], [(0, '0.000*\"amo\" + 0.000*\"multus\" + 0.000*\"lectio\" + 0.000*\"amor\"'), (1, '0.003*\"amo\" + 0.002*\"parvus\" + 0.002*\"amor\" + 0.002*\"lectio\"')], [(0, '0.000*\"invenio\" + 0.000*\"jam\" + 0.000*\"carmen1\" + 0.000*\"philosophie\"'), (1, '0.002*\"philosophie\" + 0.002*\"carmen1\" + 0.002*\"jam\" + 0.002*\"invenio\"')], [(0, '0.000*\"scio\" + 0.000*\"novus\" + 0.000*\"credo\" + 0.000*\"propter\"'), (1, '0.002*\"scio\" + 0.002*\"facilis\" + 0.002*\"multus\" + 0.002*\"propter\"')], [(0, '0.000*\"dolo1\" + 0.000*\"verecundie\" + 0.000*\"supo\" + 0.000*\"avunculus\"'), (1, '0.002*\"avunculus\" + 0.002*\"separatio\" + 0.002*\"ito\" + 0.002*\"passio\"')], [(0, '0.002*\"valeo\" + 0.001*\"coerceo\" + 0.001*\"invitus\" + 0.001*\"capio\"'), (1, '0.000*\"valeo\" + 0.000*\"potis\" + 0.000*\"ago\" + 0.000*\"meo\"')], [(0, '0.001*\"amplus\" + 0.001*\"convenio\" + 0.001*\"ad-sentio\" + 0.001*\"emendatio\"'), (1, '0.000*\"promitto\" + 0.000*\"facilis\" + 0.000*\"proditio1\" + 0.000*\"incurrerem\"')], [(0, '0.000*\"supradicte\" + 0.000*\"puelle\" + 0.000*\"dehortatio\" + 0.000*\"nuptiae\"'), (1, '0.001*\"nuptiae\" + 0.001*\"dehortatio\" + 0.001*\"puelle\" + 0.001*\"supradicte\"')], [(0, '0.004*\"uxor\" + 0.003*\"parito\" + 0.003*\"matrimonium\" + 0.002*\"etc\"'), (1, '0.000*\"uxor\" + 0.000*\"matrimonium\" + 0.000*\"parito\" + 0.000*\"facio\"')], [(0, '0.000*\"dives\" + 0.000*\"philosophicus\" + 0.000*\"diversoria\" + 0.000*\"scriptoriorum\"'), (1, '0.002*\"philosophicus\" + 0.002*\"dives\" + 0.001*\"sordeo\" + 0.001*\"sentio\"')], [(0, '0.000*\"alius2\" + 0.000*\"philosophus\" + 0.000*\"vitis\" + 0.000*\"philosophie\"'), (1, '0.003*\"philosophie\" + 0.003*\"philosophus\" + 0.003*\"alius2\" + 0.003*\"video\"')], [(0, '0.000*\"avunculus\" + 0.000*\"noster\" + 0.000*\"occulo\" + 0.000*\"parisius\"'), (1, '0.002*\"occulo\" + 0.002*\"noster\" + 0.002*\"avunculus\" + 0.001*\"commendo\"')], [(0, '0.000*\"excipio\" + 0.000*\"servio\" + 0.000*\"facio\" + 0.000*\"mundus\"'), (1, '0.002*\"facio\" + 0.002*\"servio\" + 0.002*\"excipio\" + 0.001*\"convenio\"')], [(0, '0.001*\"plaga1\" + 0.001*\"corpus\" + 0.000*\"admiror\" + 0.000*\"10rd\"'), (1, '0.000*\"corpus\" + 0.000*\"plaga1\" + 0.000*\"admiror\" + 0.000*\"10rd\"')], [(0, '0.003*\"omne\" + 0.002*\"deus\" + 0.002*\"testiculus\" + 0.002*\"hec\"'), (1, '0.000*\"hec\" + 0.000*\"omne\" + 0.000*\"testiculus\" + 0.000*\"deus\"')], [(0, '0.000*\"alto\" + 0.000*\"habeo\" + 0.000*\"monastice\" + 0.000*\"ambo\"'), (1, '0.002*\"sponte\" + 0.002*\"monastice\" + 0.002*\"habeo\" + 0.002*\"alto\"')], [(0, '0.000*\"magnus\" + 0.000*\"studium\" + 0.000*\"deus\" + 0.000*\"noster\"'), (1, '0.003*\"magnus\" + 0.002*\"modus\" + 0.002*\"noster\" + 0.002*\"vito\"')], [(0, '0.003*\"lectio\" + 0.002*\"secularium\" + 0.002*\"omne\" + 0.002*\"studium\"'), (1, '0.000*\"lectio\" + 0.000*\"multus\" + 0.000*\"studium\" + 0.000*\"omne\"')], [(0, '0.001*\"sustineo\" + 0.001*\"libro\" + 0.001*\"indo\" + 0.001*\"condiscipulus\"'), (1, '0.000*\"persecutio\" + 0.000*\"theologie\" + 0.000*\"condiscipulus\" + 0.000*\"indo\"')], [(0, '0.002*\"intellego\" + 0.002*\"ratio\" + 0.002*\"humanus\" + 0.001*\"verbum\"'), (1, '0.000*\"intellego\" + 0.000*\"humanus\" + 0.000*\"ratio\" + 0.000*\"fides1\"')], [(0, '0.000*\"magnus\" + 0.000*\"omne\" + 0.000*\"multus\" + 0.000*\"video\"'), (1, '0.002*\"video\" + 0.002*\"omne\" + 0.002*\"magnus\" + 0.002*\"scilicet\"')], [(0, '0.000*\"noster\" + 0.000*\"advenio\" + 0.000*\"scribo\" + 0.000*\"libellus\"'), (1, '0.004*\"noster\" + 0.002*\"quatenus\" + 0.002*\"civitas\" + 0.002*\"ito\"')], [(0, '0.002*\"audio\" + 0.002*\"concilium\" + 0.002*\"noster\" + 0.002*\"magnus\"'), (1, '0.000*\"concilium\" + 0.000*\"audio\" + 0.000*\"finis\" + 0.000*\"magus2\"')], [(0, '0.000*\"deus\" + 0.000*\"ratio\" + 0.000*\"gigno\" + 0.000*\"auctoritas\"'), (1, '0.005*\"deus\" + 0.003*\"gigno\" + 0.003*\"ratio\" + 0.002*\"sentio\"')], [(0, '0.000*\"multus\" + 0.000*\"juxta\" + 0.000*\"noster\" + 0.000*\"prior\"'), (1, '0.003*\"multus\" + 0.002*\"audio\" + 0.002*\"scribo\" + 0.002*\"habeo\"')], [(0, '0.002*\"episcopus\" + 0.002*\"adsum\" + 0.002*\"ibi\" + 0.002*\"lego1\"'), (1, '0.000*\"monasterium\" + 0.000*\"examen\" + 0.000*\"lego1\" + 0.000*\"ibi\"')], [(0, '0.000*\"ago\" + 0.000*\"statim\" + 0.000*\"periculosus\" + 0.000*\"confido\"'), (1, '0.002*\"statim\" + 0.002*\"ago\" + 0.001*\"inquisitio\" + 0.001*\"comburo\"')], [(0, '0.002*\"lego1\" + 0.002*\"fleo\" + 0.002*\"multus\" + 0.001*\"hec\"'), (1, '0.000*\"multus\" + 0.000*\"fleo\" + 0.000*\"lego1\" + 0.000*\"consolo\"')], [(0, '0.001*\"combustione\" + 0.001*\"liber4\" + 0.000*\"admiror\" + 0.000*\"10rd\"'), (1, '0.000*\"liber4\" + 0.000*\"combustione\" + 0.000*\"admiror\" + 0.000*\"10rd\"')], [(0, '0.000*\"judico\" + 0.000*\"omnipotens\" + 0.000*\"proprius\" + 0.000*\"debeo\"'), (1, '0.003*\"omnipotens\" + 0.003*\"judico\" + 0.002*\"tres\" + 0.002*\"filius\"')], [(0, '0.000*\"prout\" + 0.000*\"expono\" + 0.000*\"verbum\" + 0.000*\"omnipotens\"'), (1, '0.002*\"omnipotens\" + 0.002*\"verbum\" + 0.002*\"prout\" + 0.002*\"lego2\"')], [(0, '0.000*\"tunc\" + 0.000*\"omne\" + 0.000*\"corpus\" + 0.000*\"estimabam\"'), (1, '0.002*\"corpus\" + 0.002*\"omne\" + 0.002*\"tunc\" + 0.001*\"bonus\"')], [(0, '0.002*\"habeo\" + 0.002*\"arguo\" + 0.002*\"facio\" + 0.001*\"sustineo\"'), (1, '0.000*\"facio\" + 0.000*\"arguo\" + 0.000*\"habeo\" + 0.000*\"lego1\"')], [(0, '0.000*\"video\" + 0.000*\"bede\" + 0.000*\"dyonisium\" + 0.000*\"ariopagitam\"'), (1, '0.003*\"bede\" + 0.002*\"video\" + 0.002*\"validus\" + 0.002*\"verus\"')], [(0, '0.001*\"persecutio\" + 0.001*\"frater\" + 0.001*\"abbatis\" + 0.000*\"admiror\"'), (1, '0.000*\"abbatis\" + 0.000*\"frater\" + 0.000*\"persecutio\" + 0.000*\"admiror\"')], [(0, '0.000*\"corona\" + 0.000*\"nunc\" + 0.000*\"aufero\" + 0.000*\"denego\"'), (1, '0.002*\"congrego\" + 0.002*\"denego\" + 0.002*\"aufero\" + 0.002*\"nunc\"')], [(0, '0.002*\"antea\" + 0.002*\"cella\" + 0.002*\"moror1\" + 0.002*\"validus\"'), (1, '0.000*\"adverro\" + 0.000*\"diligo\" + 0.000*\"validus\" + 0.000*\"moror1\"')], [(0, '0.000*\"prior\" + 0.000*\"comito\" + 0.000*\"magnus\" + 0.000*\"pro1\"'), (1, '0.002*\"comito\" + 0.002*\"prior\" + 0.002*\"audio\" + 0.002*\"consilior\"')], [(0, '0.003*\"rego\" + 0.002*\"volo1\" + 0.002*\"habeo\" + 0.002*\"consilium\"'), (1, '0.000*\"rego\" + 0.000*\"volo1\" + 0.000*\"noster\" + 0.000*\"nullus\"')], [(0, '0.000*\"pro1\" + 0.000*\"capio\" + 0.000*\"urbs\" + 0.000*\"solitudo\"'), (1, '0.003*\"solitudo\" + 0.003*\"capio\" + 0.003*\"pro1\" + 0.002*\"fenestra\"')], [(0, '0.002*\"magus2\" + 0.002*\"necessaria\" + 0.002*\"scolares\" + 0.002*\"scilicet\"'), (1, '0.000*\"noster\" + 0.000*\"compello1\" + 0.000*\"gloriosus\" + 0.000*\"ecce\"')], [(0, '0.000*\"sancio\" + 0.000*\"memor1\" + 0.000*\"postea\" + 0.000*\"specialis\"'), (1, '0.002*\"sancio\" + 0.001*\"assigno\" + 0.001*\"aliquantulus\" + 0.001*\"paraclitum\"')], [(0, '0.000*\"pater\" + 0.000*\"immolo\" + 0.000*\"alto\" + 0.000*\"filius\"'), (1, '0.004*\"pater\" + 0.003*\"immolo\" + 0.002*\"sancio\" + 0.002*\"paraclitum\"')], [(0, '0.002*\"spiritus\" + 0.002*\"sollempnitatem\" + 0.002*\"sicut\" + 0.002*\"aufero\"'), (1, '0.000*\"sollempnitatem\" + 0.000*\"spiritus\" + 0.000*\"filius\" + 0.000*\"sancio\"')], [(0, '0.000*\"templum\" + 0.000*\"spiritus\" + 0.000*\"sancio\" + 0.000*\"specialis\"'), (1, '0.006*\"templum\" + 0.006*\"spiritus\" + 0.004*\"specialis\" + 0.004*\"sancio\"')], [(0, '0.001*\"persecutio\" + 0.001*\"apostolus\" + 0.001*\"novum\" + 0.000*\"puerulus\"'), (1, '0.000*\"novum\" + 0.000*\"apostolus\" + 0.000*\"persecutio\" + 0.000*\"omnipotens\"')], [(0, '0.000*\"mundus1\" + 0.000*\"retineo\" + 0.000*\"alter\" + 0.000*\"multus\"'), (1, '0.002*\"multus\" + 0.002*\"alter\" + 0.002*\"retineo\" + 0.002*\"mundus1\"')], [(0, '0.002*\"credo\" + 0.002*\"deus\" + 0.001*\"persequor\" + 0.001*\"expectabam\"'), (1, '0.000*\"credo\" + 0.000*\"deus\" + 0.000*\"testis1\" + 0.000*\"transeo\"')], [(0, '0.001*\"abbatia\" + 0.001*\"monachorum\" + 0.001*\"filius\" + 0.001*\"persecutio\"'), (1, '0.000*\"assumptus\" + 0.000*\"tyrannus\" + 0.000*\"persecutio\" + 0.000*\"filius\"')], [(0, '0.000*\"terreo\" + 0.000*\"quippe\" + 0.000*\"gens\" + 0.000*\"alius2\"'), (1, '0.004*\"terreo\" + 0.002*\"sicut\" + 0.002*\"incessanter\" + 0.002*\"declino\"')], [(0, '0.000*\"proprius\" + 0.000*\"intus\" + 0.000*\"foris1\" + 0.000*\"habeo\"'), (1, '0.002*\"omne\" + 0.002*\"jam\" + 0.002*\"parito\" + 0.002*\"frater\"')], [(0, '0.000*\"omne\" + 0.000*\"homo\" + 0.000*\"debeo\" + 0.000*\"dimitto\"'), (1, '0.002*\"verus\" + 0.002*\"oratorius\" + 0.002*\"provideo\" + 0.002*\"jam\"')], [(0, '0.004*\"noster\" + 0.002*\"pertineo\" + 0.002*\"oratorius\" + 0.002*\"habeo\"'), (1, '0.000*\"noster\" + 0.000*\"habeo\" + 0.000*\"oratorius\" + 0.000*\"pertineo\"')], [(0, '0.002*\"soror\" + 0.002*\"ibi\" + 0.002*\"deus\" + 0.002*\"multus\"'), (1, '0.000*\"omne\" + 0.000*\"multus\" + 0.000*\"deus\" + 0.000*\"ibi\"')], [(0, '0.000*\"infamatione\" + 0.000*\"turpitudo\" + 0.000*\"condemno\" + 0.000*\"puerulus\"'), (1, '0.001*\"turpitudo\" + 0.001*\"infamatione\" + 0.000*\"condemno\" + 0.000*\"puerulus\"')], [(0, '0.002*\"turpitudo\" + 0.002*\"detractio\" + 0.002*\"sancio\" + 0.002*\"obicio\"'), (1, '0.000*\"eunuchus\" + 0.000*\"omnes\" + 0.000*\"suspitione\" + 0.000*\"removeo\"')], [(0, '0.000*\"mulier\" + 0.000*\"dominus\" + 0.000*\"fama\" + 0.000*\"apostolus\"'), (1, '0.005*\"mulier\" + 0.003*\"apostolus\" + 0.003*\"dominus\" + 0.003*\"fama\"')], [(0, '0.002*\"contubernium\" + 0.002*\"semper\" + 0.002*\"mulier\" + 0.002*\"quoque\"'), (1, '0.000*\"video\" + 0.000*\"capud\" + 0.000*\"apostolus\" + 0.000*\"quoque\"')], [(0, '0.002*\"femina\" + 0.001*\"dudum\" + 0.001*\"exerceo\" + 0.001*\"satiricus\"'), (1, '0.000*\"femina\" + 0.000*\"vir\" + 0.000*\"facilis\" + 0.000*\"desiderium\"')], [(0, '0.000*\"magus2\" + 0.000*\"estu\" + 0.000*\"soror\" + 0.000*\"respirarem\"'), (1, '0.002*\"magus2\" + 0.001*\"aliquantulus\" + 0.001*\"magnus\" + 0.001*\"saepes\"')], [(0, '0.000*\"cibus\" + 0.000*\"filius\" + 0.000*\"provideo\" + 0.000*\"immo\"'), (1, '0.002*\"veneno\" + 0.002*\"filius\" + 0.002*\"cibus\" + 0.002*\"pater\"')], [(0, '0.000*\"jam\" + 0.000*\"presensissent\" + 0.000*\"labor1\" + 0.000*\"hec\"'), (1, '0.002*\"jam\" + 0.001*\"capio\" + 0.001*\"dius\" + 0.001*\"manifesto2\"')], [(0, '0.002*\"gladius\" + 0.002*\"compello1\" + 0.002*\"adhuc\" + 0.002*\"publicum\"'), (1, '0.000*\"gladius\" + 0.000*\"potentia1\" + 0.000*\"sacramentum\" + 0.000*\"vix\"')], [(0, '0.000*\"omne\" + 0.000*\"homo\" + 0.000*\"deus\" + 0.000*\"servus1\"'), (1, '0.003*\"deus\" + 0.003*\"homo\" + 0.003*\"voluntas\" + 0.003*\"omne\"')], [(0, '0.001*\"fero\" + 0.001*\"christian\" + 0.000*\"puerulus\" + 0.000*\"condemno\"'), (1, '0.000*\"christian\" + 0.000*\"fero\" + 0.000*\"puerulus\" + 0.000*\"condemno\"')], [(0, '0.000*\"fero\" + 0.000*\"library\" + 0.000*\"thos\" + 0.000*\"admiror\"'), (1, '0.001*\"thos\" + 0.001*\"library\" + 0.001*\"fero\" + 0.000*\"admiror\"')], [(0, '0.001*\"classics\" + 0.001*\"thos\" + 0.001*\"pagus\" + 0.000*\"admiror\"'), (1, '0.000*\"pagus\" + 0.000*\"thos\" + 0.000*\"classics\" + 0.000*\"admiror\"')]]\n"
     ]
    }
   ],
   "source": [
    "print(topics)"
   ]
  },
  {
   "cell_type": "code",
   "execution_count": 435,
   "metadata": {},
   "outputs": [
    {
     "name": "stdout",
     "output_type": "stream",
     "text": [
      "(0, '0.000*\"littera\" + 0.000*\"habeo\" + 0.000*\"orior\" + 0.000*\"proficio\"')\n",
      "['\"littera\"', '\"habeo\"', '\"orior\"', '\"proficio\"']\n"
     ]
    }
   ],
   "source": [
    "print(topics[4][0])\n",
    "\n",
    "topicwords = re.findall(r\"\\\"[a-z]*\\\"\", topics[4][0][1])\n",
    "print(topicwords)"
   ]
  },
  {
   "cell_type": "code",
   "execution_count": 438,
   "metadata": {},
   "outputs": [],
   "source": [
    "result = []\n",
    "for index, doc in enumerate(topics):\n",
    "    \n",
    "    if any(word in doc[0][1] for word in topicwords):\n",
    "        result.append(index)\n",
    "        \n",
    "    \n",
    "    "
   ]
  },
  {
   "cell_type": "code",
   "execution_count": 439,
   "metadata": {},
   "outputs": [
    {
     "name": "stdout",
     "output_type": "stream",
     "text": [
      "[2, 4, 9, 24, 40, 57, 63, 75, 77]\n"
     ]
    }
   ],
   "source": [
    "print(result)"
   ]
  },
  {
   "cell_type": "code",
   "execution_count": null,
   "metadata": {
    "collapsed": true
   },
   "outputs": [],
   "source": []
  },
  {
   "cell_type": "code",
   "execution_count": null,
   "metadata": {
    "collapsed": true
   },
   "outputs": [],
   "source": []
  }
 ],
 "metadata": {
  "kernelspec": {
   "display_name": "Python 3",
   "language": "python",
   "name": "python3"
  },
  "language_info": {
   "codemirror_mode": {
    "name": "ipython",
    "version": 3
   },
   "file_extension": ".py",
   "mimetype": "text/x-python",
   "name": "python",
   "nbconvert_exporter": "python",
   "pygments_lexer": "ipython3",
   "version": "3.5.2"
  }
 },
 "nbformat": 4,
 "nbformat_minor": 2
}
